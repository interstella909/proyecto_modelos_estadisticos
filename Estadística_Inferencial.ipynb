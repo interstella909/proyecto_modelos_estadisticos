{
  "nbformat": 4,
  "nbformat_minor": 0,
  "metadata": {
    "colab": {
      "provenance": []
    },
    "kernelspec": {
      "name": "python3",
      "display_name": "Python 3"
    },
    "language_info": {
      "name": "python"
    }
  },
  "cells": [
    {
      "cell_type": "markdown",
      "source": [
        "# Estadística Inferencial\n",
        "\n",
        "## 1. Estimadores y sus Propiedades\n",
        "\n",
        "Un **estimador** es una función de la muestra que se utiliza para aproximar un parámetro poblacional.\n",
        "\n",
        "### Ejemplos de estimadores:\n",
        "- Media muestral $\\bar{X} $ estima la media poblacional $\\mu$\n",
        "- Varianza muestral $S^2$ estima la varianza poblacional $\\sigma^2$\n",
        "\n",
        "### Propiedades deseables de los estimadores:\n",
        "- **Insesgadez**: $\\mathbb{E}[\\hat{\\theta}] = \\theta$\n",
        "- **Consistencia**: $\\hat{\\theta} \\xrightarrow{p} \\theta$ conforme $n \\to \\infty$\n",
        "- **Eficiencia**: menor varianza entre todos los estimadores insesgados\n",
        "- **Suficiencia**: resume toda la información relevante de la muestra respecto al parámetro\n"
      ],
      "metadata": {
        "id": "HgDc6ZV21Y7x"
      }
    },
    {
      "cell_type": "markdown",
      "source": [
        "## 2. Intervalos de Confianza\n",
        "\n",
        "Un **intervalo de confianza (IC)** es un rango de valores que probablemente contenga el valor verdadero del parámetro poblacional con una cierta probabilidad (nivel de confianza).\n",
        "\n",
        "### Intervalo de confianza para la media cuando $\\sigma$ es desconocida:\n",
        "\n",
        "Para muestras grandes o uso de la t de Student:\n",
        "\n",
        "$$\\left( \\bar{x} - t_{\\alpha/2} \\cdot \\frac{s}{\\sqrt{n}}, \\ \\bar{x} + t_{\\alpha/2} \\cdot \\frac{s}{\\sqrt{n}} \\right)$$\n"
      ],
      "metadata": {
        "id": "AMw_A9DH2F1U"
      }
    },
    {
      "cell_type": "code",
      "execution_count": null,
      "metadata": {
        "colab": {
          "base_uri": "https://localhost:8080/"
        },
        "id": "cCtgXvIF1PgA",
        "outputId": "b6c4665b-530a-4aba-8df6-2c443aaee27e"
      },
      "outputs": [
        {
          "output_type": "stream",
          "name": "stdout",
          "text": [
            "Intervalo de confianza del 95% para la media: (50.32, 58.54)\n"
          ]
        }
      ],
      "source": [
        "import numpy as np\n",
        "from scipy import stats\n",
        "\n",
        "# Simulación de muestra\n",
        "np.random.seed(0)\n",
        "muestra = np.random.normal(loc=50, scale=10, size=30)\n",
        "\n",
        "media = np.mean(muestra)\n",
        "desv = np.std(muestra, ddof=1)\n",
        "n = len(muestra)\n",
        "confianza = 0.95\n",
        "\n",
        "t_critico = stats.t.ppf(1 - (1 - confianza)/2, df=n-1)\n",
        "margen_error = t_critico * (desv / np.sqrt(n))\n",
        "\n",
        "li = media - margen_error\n",
        "ls = media + margen_error\n",
        "\n",
        "# Salida más legible\n",
        "print(f\"Intervalo de confianza del 95% para la media: ({li:.2f}, {ls:.2f})\")"
      ]
    },
    {
      "cell_type": "markdown",
      "source": [
        "## 3. Pruebas de Hipótesis\n",
        "\n",
        "Es un procedimiento estadístico para decidir si aceptamos o rechazamos una afirmación sobre un parámetro poblacional.\n",
        "\n",
        "### Elementos clave:\n",
        "\n",
        "- **Hipótesis nula (H₀)**: afirmación que se quiere contrastar\n",
        "- **Hipótesis alternativa (H₁)**: lo que se plantea si se rechaza H₀\n",
        "- **Estadístico de prueba**: valor calculado a partir de la muestra\n",
        "- **Valor-p (p-value)**: probabilidad de obtener un resultado al menos tan extremo como el observado, bajo H₀\n",
        "- **Nivel de significancia** \\( \\alpha \\): umbral para rechazar H₀ (típicamente 0.05)\n",
        "\n",
        "### Tipos de prueba:\n",
        "- Prueba bilateral: $H_0: \\mu = \\mu_0, \\ H_1: \\mu \\neq \\mu_0$\n",
        "- Prueba unilateral izquierda: $ H_0: \\mu \\geq \\mu_0 \\, \\ H_1: \\mu < \\mu_0$\n",
        "- Prueba unilateral derecha:  $H_0: \\mu \\leq \\mu_0 \\, \\ H_1: \\mu > \\mu_0$\n"
      ],
      "metadata": {
        "id": "v2XemWg42kXg"
      }
    },
    {
      "cell_type": "code",
      "source": [
        "# Prueba t de una muestra\n",
        "mu_hipotesis = 52\n",
        "t_stat, p_value = stats.ttest_1samp(muestra, mu_hipotesis)\n",
        "\n",
        "print(f\"Estadístico t: {t_stat:.3f}\")\n",
        "print(f\"Valor p: {p_value:.3f}\")\n",
        "\n",
        "alpha = 0.05\n",
        "if p_value < alpha:\n",
        "    print(\"Se rechaza H0: la media es significativamente distinta de\", mu_hipotesis)\n",
        "else:\n",
        "    print(\"No se rechaza H0: no hay evidencia suficiente para decir que la media es distinta de\", mu_hipotesis)"
      ],
      "metadata": {
        "colab": {
          "base_uri": "https://localhost:8080/"
        },
        "id": "_1EDxzG42Wie",
        "outputId": "dc488937-8ff5-432e-d390-48a724da5c0b"
      },
      "execution_count": null,
      "outputs": [
        {
          "output_type": "stream",
          "name": "stdout",
          "text": [
            "Estadístico t: 1.209\n",
            "Valor p: 0.236\n",
            "No se rechaza H0: no hay evidencia suficiente para decir que la media es distinta de 52\n"
          ]
        }
      ]
    },
    {
      "cell_type": "markdown",
      "source": [
        "## Población y Parámetros Poblacionales\n",
        "\n",
        "### ¿Qué es una población?\n",
        "\n",
        "En estadística, una **población** es el conjunto completo de elementos (personas, objetos, eventos, etc.) sobre el cual se desea hacer inferencias o extraer conclusiones.\n",
        "\n",
        "- Ejemplo: Todos los estudiantes de una universidad, todas las mediciones de temperatura en una ciudad durante un año, etc.\n",
        "\n",
        "### Parámetros poblacionales\n",
        "\n",
        "Los **parámetros poblacionales** son valores numéricos que describen características de la población.\n",
        "\n",
        "| Parámetro         | Símbolo usual | Descripción                         |\n",
        "|------------------|----------------|-------------------------------------|\n",
        "| Media poblacional | $\\mu$         | Promedio de la población             |\n",
        "| Varianza poblacional | $\\sigma^2$ | Dispersión de los datos de la población |\n",
        "| Proporción poblacional |  $p$     | Porcentaje de éxito o característica |\n",
        "\n",
        "> En la práctica, los parámetros **no se conocen** porque no se puede observar a toda la población.\n",
        "\n",
        "\n",
        "### ¿Por qué usamos muestras?\n",
        "\n",
        "Como acceder a toda la población es costoso o imposible, se toma una **muestra aleatoria** y se usan **estadísticos** (valores calculados con la muestra) para estimar los parámetros poblacionales.\n",
        "\n",
        "| Estadístico         | Símbolo     | Estima a...        |\n",
        "|---------------------|-------------|---------------------|\n",
        "| Media muestral      |  $\\bar{X}$  | \\( \\mu \\)           |\n",
        "| Varianza muestral   |    $S^2$    | \\( \\sigma^2 \\)      |\n",
        "| Proporción muestral |   $\\hat{p}$ | \\( p \\)             |\n",
        "\n",
        "\n",
        "### Ejemplo en Python: simulando una población y extrayendo muestras\n",
        "\n",
        "Supongamos que tenemos una población ficticia de 10,000 personas con una altura media de 170 cm y desviación estándar de 10 cm.\n"
      ],
      "metadata": {
        "id": "2Exy3f-I1T6K"
      }
    },
    {
      "cell_type": "code",
      "source": [
        "import numpy as np\n",
        "import matplotlib.pyplot as plt\n",
        "\n",
        "# Simulamos una población grande (tamaño 10,000)\n",
        "np.random.seed(42)\n",
        "poblacion = np.random.normal(loc=170, scale=10, size=10000)\n",
        "\n",
        "# Parámetros poblacionales reales (conocidos porque es simulación)\n",
        "media_poblacional = np.mean(poblacion)\n",
        "print(f\"Media poblacional (μ): {media_poblacional:.2f} cm\")\n",
        "\n",
        "# Tomamos 100 muestras de tamaño 50 y calculamos su media\n",
        "medias_muestrales = []\n",
        "for _ in range(100):\n",
        "    muestra = np.random.choice(poblacion, size=50, replace=False)\n",
        "    medias_muestrales.append(np.mean(muestra))\n",
        "\n",
        "# Gráfica de distribución de medias muestrales\n",
        "plt.figure(figsize=(8, 4))\n",
        "plt.hist(medias_muestrales, bins=15, color=\"skyblue\", edgecolor=\"black\")\n",
        "plt.axvline(media_poblacional, color='red', linestyle='--', label='Media poblacional (μ)')\n",
        "plt.title(\"Distribución de medias muestrales (n=50)\")\n",
        "plt.xlabel(\"Media muestral\")\n",
        "plt.ylabel(\"Frecuencia\")\n",
        "plt.legend()\n",
        "plt.grid(True)\n",
        "plt.tight_layout()\n",
        "plt.show()"
      ],
      "metadata": {
        "id": "D3BAuRoM3aMS",
        "colab": {
          "base_uri": "https://localhost:8080/",
          "height": 425
        },
        "outputId": "21d839f6-c5b9-45ff-851e-273eac5cbaf0"
      },
      "execution_count": 1,
      "outputs": [
        {
          "output_type": "stream",
          "name": "stdout",
          "text": [
            "Media poblacional (μ): 169.98 cm\n"
          ]
        },
        {
          "output_type": "display_data",
          "data": {
            "text/plain": [
              "<Figure size 800x400 with 1 Axes>"
            ],
            "image/png": "[encoded data removed]"
          },
          "metadata": {}
        }
      ]
    },
    {
      "cell_type": "markdown",
      "source": [
        "## Estimadores y Métodos de Estimación\n",
        "\n",
        "En inferencia estadística, un **estimador** es una regla o fórmula que se aplica a los datos muestrales para inferir un parámetro poblacional desconocido.\n",
        "\n",
        "### Estimador insesgado\n",
        "\n",
        "Un estimador $\\hat{\\theta}$ es **insesgado** si, en promedio, acierta con el valor verdadero del parámetro $\\theta$:\n",
        "\n",
        "$$\\mathbb{E}[\\hat{\\theta}] = \\theta$$\n",
        "\n",
        "> Ejemplo clásico: La media muestral $\\bar{X}$ es un estimador insesgado de la media poblacional $\\mu$.\n",
        "\n",
        "### Estimador de Máxima Verosimilitud (EMV)\n",
        "\n",
        "El **EMV** busca el valor del parámetro que **maximiza la verosimilitud** de haber observado los datos muestrales. Se basa en la función:\n",
        "\n",
        "$$L(\\theta) = \\prod_{i=1}^n f(x_i \\mid \\theta)$$\n",
        "\n",
        "Se suele trabajar con la **log-verosimilitud**:\n",
        "\n",
        "$$\\ell(\\theta) = \\log L(\\theta) = \\sum_{i=1}^n \\log f(x_i \\mid \\theta)$$\n",
        "\n",
        "### Método de los Momentos\n",
        "\n",
        "Este método iguala los **momentos poblacionales** teóricos con los **momentos muestrales**:\n",
        "\n",
        "$$\\text{Ejemplo (1er momento)}: \\quad \\mathbb{E}[X] = \\bar{X}$$\n",
        "\n",
        "> Se pueden usar más momentos si hay más parámetros.\n",
        "\n",
        "### Ejemplo en Python: estimando parámetro de una exponencial\n",
        "\n",
        "Supón que los datos provienen de una distribución exponencial:\n",
        "\n",
        "$$f(x \\mid \\lambda) = \\lambda e^{-\\lambda x}, \\quad x \\geq 0$$\n",
        "\n",
        "Tanto el EMV como el método de los momentos estiman:\n",
        "\n",
        "$$\\hat{\\lambda} = \\frac{1}{\\bar{X}}$$\n"
      ],
      "metadata": {
        "id": "Nr7l3Atp2Mv1"
      }
    },
    {
      "cell_type": "code",
      "source": [
        "import numpy as np\n",
        "import matplotlib.pyplot as plt\n",
        "from scipy.stats import expon\n",
        "\n",
        "# Simulamos una muestra de una exponencial con λ = 2\n",
        "np.random.seed(0)\n",
        "lambda_real = 2\n",
        "muestra = np.random.exponential(scale=1/lambda_real, size=100)\n",
        "\n",
        "# EMV y método de momentos (coinciden en este caso)\n",
        "media_muestral = np.mean(muestra)\n",
        "lambda_emv = 1 / media_muestral\n",
        "lambda_momentos = 1 / media_muestral  # Igual aquí\n",
        "\n",
        "print(f\"λ real: {lambda_real}\")\n",
        "print(f\"Estimador EMV: {lambda_emv:.4f}\")\n",
        "print(f\"Estimador por momentos: {lambda_momentos:.4f}\")"
      ],
      "metadata": {
        "colab": {
          "base_uri": "https://localhost:8080/"
        },
        "id": "jbIJwqro1-cO",
        "outputId": "55efa2e0-4a8a-4358-fb19-c466973aa6bc"
      },
      "execution_count": 2,
      "outputs": [
        {
          "output_type": "stream",
          "name": "stdout",
          "text": [
            "λ real: 2\n",
            "Estimador EMV: 2.1771\n",
            "Estimador por momentos: 2.1771\n"
          ]
        }
      ]
    },
    {
      "cell_type": "markdown",
      "source": [
        "## Error Cuadrático Medio (ECM)\n",
        "\n",
        "El **Error Cuadrático Medio** (ECM o MSE, *Mean Squared Error*) es una medida de la precisión de un estimador.\n",
        "\n",
        "Se define como:\n",
        "\n",
        "$$\\text{ECM}(\\hat{\\theta}) = \\mathbb{E}[(\\hat{\\theta} - \\theta)^2]$$\n",
        "\n",
        "Este se puede descomponer como:\n",
        "\n",
        "$$\\text{ECM}(\\hat{\\theta}) = \\underbrace{\\text{Var}(\\hat{\\theta})}_{\\text{precisión}} + \\underbrace{(\\text{Sesgo}(\\hat{\\theta}))^2}_{\\text{exactitud}}$$\n",
        "\n",
        "Donde:\n",
        "\n",
        "- **$Var (\\hat{\\theta})$**: es la variabilidad del estimador.\n",
        "- **$Sesgo( \\hat{\\theta})$**: es la diferencia entre el valor esperado del estimador y el valor real del parámetro.\n",
        "\n",
        "> Un estimador con ECM bajo es deseable: indica que es **preciso y/o exacto**.\n",
        "\n",
        "---\n"
      ],
      "metadata": {
        "id": "6RheBVAA48zq"
      }
    },
    {
      "cell_type": "code",
      "source": [
        "import numpy as np\n",
        "\n",
        "# Parámetro real\n",
        "theta_real = 5\n",
        "\n",
        "# Simulación de 1,000 estimaciones de theta con cierto sesgo y varianza\n",
        "np.random.seed(42)\n",
        "estimaciones = np.random.normal(loc=5.2, scale=1.0, size=1000)  # Media sesgada = 5.2\n",
        "\n",
        "# Cálculo del sesgo\n",
        "sesgo = np.mean(estimaciones) - theta_real\n",
        "\n",
        "# Varianza del estimador\n",
        "varianza = np.var(estimaciones)\n",
        "\n",
        "# ECM (MSE)\n",
        "ecm = varianza + sesgo**2\n",
        "\n",
        "print(f\"Sesgo: {sesgo:.4f}\")\n",
        "print(f\"Varianza del estimador: {varianza:.4f}\")\n",
        "print(f\"Error Cuadrático Medio (ECM): {ecm:.4f}\")"
      ],
      "metadata": {
        "colab": {
          "base_uri": "https://localhost:8080/"
        },
        "id": "QwrP1ff33wlj",
        "outputId": "58180bc5-6362-4eb0-df50-bd143fd77360"
      },
      "execution_count": 3,
      "outputs": [
        {
          "output_type": "stream",
          "name": "stdout",
          "text": [
            "Sesgo: 0.2193\n",
            "Varianza del estimador: 0.9579\n",
            "Error Cuadrático Medio (ECM): 1.0060\n"
          ]
        }
      ]
    },
    {
      "cell_type": "markdown",
      "source": [
        "## Teorema de Fisher-Neyman (Teorema de la Suficiencia)\n",
        "\n",
        "El **Teorema de Fisher-Neyman** proporciona un criterio para determinar si un estadístico es **suficiente** para un parámetro poblacional \\( \\theta \\).\n",
        "\n",
        "### ¿Qué es un estadístico suficiente?\n",
        "\n",
        "Un **estadístico $T(X)$** es **suficiente** para el parámetro $5\\theta$ si **contiene toda la información relevante** de la muestra respecto a $\\theta$.\n",
        "\n",
        "> Es decir, conocer $T(X)$ es tan informativo como conocer todos los datos $X_1, X_2, \\ldots, X_n$ para estimar $\\theta$.\n",
        "\n",
        "### Teorema de la factorización (Fisher-Neyman)\n",
        "\n",
        "Sea $X = (X_1, \\ldots, X_n)$ una muestra con función de verosimilitud conjunta $f(x_1, \\ldots, x_n \\mid \\theta)$.  \n",
        "Un estadístico $T(X)$ es suficiente para $\\theta$ **si y solo si** la función de verosimilitud se puede **factorizar** como:\n",
        "\n",
        "$$f(x_1, \\ldots, x_n \\mid \\theta) = g(T(x), \\theta) \\cdot h(x)$$\n",
        "\n",
        "- $( g )$: depende de $\\theta$ y del estadístico $T(x)$  \n",
        "- $( h )$: no depende de $\\theta$\n",
        "\n",
        "### Ejemplo: distribución binomial\n",
        "\n",
        "Supón que tenemos una muestra de tamaño $( n )$, donde cada $X_i \\sim \\text{Bernoulli}(p)$.  \n",
        "La suma $T = \\sum X_i$ es suficiente para $p$, porque:\n",
        "\n",
        "$$f(x_1, \\ldots, x_n \\mid p) = p^{\\sum x_i} (1-p)^{n - \\sum x_i}$$\n",
        "\n",
        "Esto puede factorizarse como:\n",
        "\n",
        "$$f(x \\mid p) = g(T(x), p) \\cdot h(x) = p^{T} (1-p)^{n - T} \\cdot 1$$\n",
        "\n",
        "Entonces, $T = \\sum X_i$ es un estadístico suficiente para $p$.\n"
      ],
      "metadata": {
        "id": "AY_Zr5M7A6f4"
      }
    },
    {
      "cell_type": "code",
      "source": [
        "# Simulamos una muestra Bernoulli con p=0.3\n",
        "import numpy as np\n",
        "\n",
        "np.random.seed(42)\n",
        "n = 20\n",
        "p = 0.3\n",
        "muestra = np.random.binomial(n=1, p=p, size=n)\n",
        "\n",
        "# Estadístico suficiente: suma de éxitos\n",
        "T = np.sum(muestra)\n",
        "\n",
        "print(f\"Muestra: {muestra}\")\n",
        "print(f\"Estadístico suficiente T = ΣXi: {T}\")"
      ],
      "metadata": {
        "colab": {
          "base_uri": "https://localhost:8080/"
        },
        "id": "LsP2KQ5v5_f8",
        "outputId": "5ae0ec86-b28d-47a0-b7b2-78b14fe5944e"
      },
      "execution_count": 4,
      "outputs": [
        {
          "output_type": "stream",
          "name": "stdout",
          "text": [
            "Muestra: [0 1 1 0 0 0 0 1 0 1 0 1 1 0 0 0 0 0 0 0]\n",
            "Estadístico suficiente T = ΣXi: 6\n"
          ]
        }
      ]
    },
    {
      "cell_type": "markdown",
      "source": [
        "## Estimadores Insesgados de Varianza Uniformemente Mínima (EIVUM / MVUE)\n",
        "\n",
        "Un **EIVUM** es un estimador que:\n",
        "\n",
        "1. Es **insesgado**:  \n",
        "\n",
        "$$\\mathbb{E}[\\hat{\\theta}] = \\theta$$\n",
        "\n",
        "\n",
        "2. Tiene la **varianza mínima** entre todos los estimadores insesgados posibles, **para cualquier valor** del parámetro $\\theta$.\n",
        "\n",
        "\n",
        "### ¿Por qué nos interesan los EIVUM?\n",
        "\n",
        "Porque no solo estiman correctamente el parámetro (insesgo), sino que **lo hacen con la menor incertidumbre posible**.\n",
        "\n",
        "### ¿Cómo encontrar un EIVUM?\n",
        "\n",
        "Se puede usar el **Teorema de Lehmann–Scheffé**, que dice:\n",
        "\n",
        "> Si $T(X)$ es un **estadístico suficiente y completo**, y $\\hat{\\theta} = g(T(X))$ es un **estimador insesgado** de $\\theta$, entonces $\\hat{\\theta}$ es el **EIVUM** de $\\theta$.\n",
        "\n",
        "### Ejemplo: EIVUM de la varianza en una muestra normal\n",
        "\n",
        "Sea una muestra aleatoria $X_1, \\ldots, X_n \\sim \\mathcal{N}(\\mu, \\sigma^2)$.  \n",
        "\n",
        "La **varianza muestral corregida** es:\n",
        "\n",
        "$$S^2 = \\frac{1}{n - 1} \\sum_{i=1}^n (X_i - \\bar{X})^2$$\n",
        "\n",
        "Este es un estimador **insesgado** de $\\sigma^2$, y además es el **EIVUM** de $\\sigma^2$."
      ],
      "metadata": {
        "id": "UEOMSWMyDAoj"
      }
    },
    {
      "cell_type": "code",
      "source": [
        "import numpy as np\n",
        "\n",
        "# Simulamos datos normales con mu=10, sigma=2\n",
        "np.random.seed(0)\n",
        "mu, sigma = 10, 2\n",
        "n = 30\n",
        "muestra = np.random.normal(loc=mu, scale=sigma, size=n)\n",
        "\n",
        "# Varianza muestral insesgada (división entre n - 1)\n",
        "var_insesgada = np.var(muestra, ddof=1)\n",
        "\n",
        "print(f\"Estimador insesgado de la varianza (EIVUM): {var_insesgada:.4f}\")"
      ],
      "metadata": {
        "colab": {
          "base_uri": "https://localhost:8080/"
        },
        "id": "9kCR4PgiCp1f",
        "outputId": "00569759-fa3e-4203-aa9a-d444f0b9a9cb"
      },
      "execution_count": 5,
      "outputs": [
        {
          "output_type": "stream",
          "name": "stdout",
          "text": [
            "Estimador insesgado de la varianza (EIVUM): 4.8429\n"
          ]
        }
      ]
    },
    {
      "cell_type": "markdown",
      "source": [
        "## Desigualdad de Cramér-Rao (Cramer-Rao Lower Bound, CRLB)\n",
        "\n",
        "La **Desigualdad de Cramér-Rao** establece un límite inferior para la varianza de **cualquier estimador insesgado** de un parámetro $\\theta$.\n",
        "\n",
        "### ¿Qué nos dice?\n",
        "\n",
        "Si $\\hat{\\theta}$ es un estimador **insesgado** de $\\theta$, entonces:\n",
        "\n",
        "$$\\text{Var}(\\hat{\\theta}) \\geq \\frac{1}{\\mathcal{I}(\\theta)}$$\n",
        "\n",
        "Donde:\n",
        "\n",
        "- $\\mathcal{I}(\\theta)$ es la **información de Fisher**:\n",
        "\n",
        "$$\\mathcal{I}(\\theta) = \\mathbb{E} \\left[ \\left( \\frac{\\partial}{\\partial \\theta} \\log f(X \\mid \\theta) \\right)^2 \\right]$$\n",
        "\n",
        "### Interpretación\n",
        "\n",
        "Este límite nos indica **cuán buena puede ser una estimación insesgada**.  \n",
        "Un estimador que **alcanza** este límite es **eficiente**, y por lo tanto, es un **EIVUM**.\n",
        "\n",
        "### Ejemplo: distribución normal con varianza conocida\n",
        "\n",
        "Supón que $X_1, \\dots, X_n \\sim \\mathcal{N}(\\mu, \\sigma^2)$, con $\\sigma^2$ conocida.  \n",
        "El estimador natural de $\\mu$ es:\n",
        "\n",
        "$$\\hat{\\mu} = \\bar{X}$$\n",
        "\n",
        "Este estimador es insesgado y tiene varianza:\n",
        "\n",
        "$$\\text{Var}(\\bar{X}) = \\frac{\\sigma^2}{n}$$\n",
        "\n",
        "La información de Fisher en este caso es:\n",
        "\n",
        "$$\\mathcal{I}(\\mu) = \\frac{n}{\\sigma^2}\n",
        "\\Rightarrow \\frac{1}{\\mathcal{I}(\\mu)} = \\frac{\\sigma^2}{n}$$\n",
        "\n",
        "Por lo tanto, $\\bar{X}$ **alcanza** el límite de Cramér-Rao ⇒ es **eficiente**.\n"
      ],
      "metadata": {
        "id": "RsLj7PctEFxB"
      }
    },
    {
      "cell_type": "code",
      "source": [
        "import numpy as np\n",
        "\n",
        "# Parámetros\n",
        "np.random.seed(42)\n",
        "mu = 5\n",
        "sigma = 2\n",
        "n = 1000\n",
        "\n",
        "# Muestra normal con varianza conocida\n",
        "muestra = np.random.normal(loc=mu, scale=sigma, size=n)\n",
        "media_muestral = np.mean(muestra)\n",
        "\n",
        "# Estimación empírica de la varianza del estimador\n",
        "var_empirica = np.var(muestra) / n  # Varianza de la media\n",
        "\n",
        "# Cálculo del límite de Cramér-Rao\n",
        "crlb = sigma**2 / n\n",
        "\n",
        "print(f\"Media muestral: {media_muestral:.4f}\")\n",
        "print(f\"Varianza empírica de la media: {var_empirica:.6f}\")\n",
        "print(f\"Límite de Cramér-Rao: {crlb:.6f}\")"
      ],
      "metadata": {
        "colab": {
          "base_uri": "https://localhost:8080/"
        },
        "id": "yUQ4xMOcD0HH",
        "outputId": "2582a2cd-061e-4734-c881-058267f532eb"
      },
      "execution_count": 6,
      "outputs": [
        {
          "output_type": "stream",
          "name": "stdout",
          "text": [
            "Media muestral: 5.0387\n",
            "Varianza empírica de la media: 0.003832\n",
            "Límite de Cramér-Rao: 0.004000\n"
          ]
        }
      ]
    },
    {
      "cell_type": "code",
      "source": [],
      "metadata": {
        "id": "VYkoEZCYE2MV"
      },
      "execution_count": null,
      "outputs": []
    }
  ]
}