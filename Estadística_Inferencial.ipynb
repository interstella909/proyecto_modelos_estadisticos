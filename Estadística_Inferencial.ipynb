{
  "nbformat": 4,
  "nbformat_minor": 0,
  "metadata": {
    "colab": {
      "provenance": []
    },
    "kernelspec": {
      "name": "python3",
      "display_name": "Python 3"
    },
    "language_info": {
      "name": "python"
    }
  },
  "cells": [
    {
      "cell_type": "markdown",
      "source": [
        "# Estadística Inferencial\n",
        "\n",
        "## 1. Estimadores y sus Propiedades\n",
        "\n",
        "Un **estimador** es una función de la muestra que se utiliza para aproximar un parámetro poblacional.\n",
        "\n",
        "### Ejemplos de estimadores:\n",
        "- Media muestral $\\bar{X} $ estima la media poblacional $\\mu$\n",
        "- Varianza muestral $S^2$ estima la varianza poblacional $\\sigma^2$\n",
        "\n",
        "### Propiedades deseables de los estimadores:\n",
        "- **Insesgadez**: $\\mathbb{E}[\\hat{\\theta}] = \\theta$\n",
        "- **Consistencia**: $\\hat{\\theta} \\xrightarrow{p} \\theta$ conforme $n \\to \\infty$\n",
        "- **Eficiencia**: menor varianza entre todos los estimadores insesgados\n",
        "- **Suficiencia**: resume toda la información relevante de la muestra respecto al parámetro\n"
      ],
      "metadata": {
        "id": "HgDc6ZV21Y7x"
      }
    },
    {
      "cell_type": "markdown",
      "source": [
        "## 2. Intervalos de Confianza\n",
        "\n",
        "Un **intervalo de confianza (IC)** es un rango de valores que probablemente contenga el valor verdadero del parámetro poblacional con una cierta probabilidad (nivel de confianza).\n",
        "\n",
        "### Intervalo de confianza para la media cuando $\\sigma$ es desconocida:\n",
        "\n",
        "Para muestras grandes o uso de la t de Student:\n",
        "\n",
        "$$\\left( \\bar{x} - t_{\\alpha/2} \\cdot \\frac{s}{\\sqrt{n}}, \\ \\bar{x} + t_{\\alpha/2} \\cdot \\frac{s}{\\sqrt{n}} \\right)$$\n"
      ],
      "metadata": {
        "id": "AMw_A9DH2F1U"
      }
    },
    {
      "cell_type": "code",
      "execution_count": 4,
      "metadata": {
        "colab": {
          "base_uri": "https://localhost:8080/"
        },
        "id": "cCtgXvIF1PgA",
        "outputId": "b6c4665b-530a-4aba-8df6-2c443aaee27e"
      },
      "outputs": [
        {
          "output_type": "stream",
          "name": "stdout",
          "text": [
            "Intervalo de confianza del 95% para la media: (50.32, 58.54)\n"
          ]
        }
      ],
      "source": [
        "import numpy as np\n",
        "from scipy import stats\n",
        "\n",
        "# Simulación de muestra\n",
        "np.random.seed(0)\n",
        "muestra = np.random.normal(loc=50, scale=10, size=30)\n",
        "\n",
        "media = np.mean(muestra)\n",
        "desv = np.std(muestra, ddof=1)\n",
        "n = len(muestra)\n",
        "confianza = 0.95\n",
        "\n",
        "t_critico = stats.t.ppf(1 - (1 - confianza)/2, df=n-1)\n",
        "margen_error = t_critico * (desv / np.sqrt(n))\n",
        "\n",
        "li = media - margen_error\n",
        "ls = media + margen_error\n",
        "\n",
        "# Salida más legible\n",
        "print(f\"Intervalo de confianza del 95% para la media: ({li:.2f}, {ls:.2f})\")"
      ]
    },
    {
      "cell_type": "markdown",
      "source": [
        "## 3. Pruebas de Hipótesis\n",
        "\n",
        "Es un procedimiento estadístico para decidir si aceptamos o rechazamos una afirmación sobre un parámetro poblacional.\n",
        "\n",
        "### Elementos clave:\n",
        "\n",
        "- **Hipótesis nula (H₀)**: afirmación que se quiere contrastar\n",
        "- **Hipótesis alternativa (H₁)**: lo que se plantea si se rechaza H₀\n",
        "- **Estadístico de prueba**: valor calculado a partir de la muestra\n",
        "- **Valor-p (p-value)**: probabilidad de obtener un resultado al menos tan extremo como el observado, bajo H₀\n",
        "- **Nivel de significancia** \\( \\alpha \\): umbral para rechazar H₀ (típicamente 0.05)\n",
        "\n",
        "### Tipos de prueba:\n",
        "- Prueba bilateral: $H_0: \\mu = \\mu_0, \\ H_1: \\mu \\neq \\mu_0$\n",
        "- Prueba unilateral izquierda: $ H_0: \\mu \\geq \\mu_0 \\, \\ H_1: \\mu < \\mu_0$\n",
        "- Prueba unilateral derecha:  $H_0: \\mu \\leq \\mu_0 \\, \\ H_1: \\mu > \\mu_0$\n"
      ],
      "metadata": {
        "id": "v2XemWg42kXg"
      }
    },
    {
      "cell_type": "code",
      "source": [
        "# Prueba t de una muestra\n",
        "mu_hipotesis = 52\n",
        "t_stat, p_value = stats.ttest_1samp(muestra, mu_hipotesis)\n",
        "\n",
        "print(f\"Estadístico t: {t_stat:.3f}\")\n",
        "print(f\"Valor p: {p_value:.3f}\")\n",
        "\n",
        "alpha = 0.05\n",
        "if p_value < alpha:\n",
        "    print(\"Se rechaza H0: la media es significativamente distinta de\", mu_hipotesis)\n",
        "else:\n",
        "    print(\"No se rechaza H0: no hay evidencia suficiente para decir que la media es distinta de\", mu_hipotesis)"
      ],
      "metadata": {
        "colab": {
          "base_uri": "https://localhost:8080/"
        },
        "id": "_1EDxzG42Wie",
        "outputId": "dc488937-8ff5-432e-d390-48a724da5c0b"
      },
      "execution_count": 2,
      "outputs": [
        {
          "output_type": "stream",
          "name": "stdout",
          "text": [
            "Estadístico t: 1.209\n",
            "Valor p: 0.236\n",
            "No se rechaza H0: no hay evidencia suficiente para decir que la media es distinta de 52\n"
          ]
        }
      ]
    },
    {
      "cell_type": "code",
      "source": [],
      "metadata": {
        "id": "D3BAuRoM3aMS"
      },
      "execution_count": null,
      "outputs": []
    }
  ]
}